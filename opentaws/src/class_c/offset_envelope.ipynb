{
 "cells": [
  {
   "cell_type": "code",
   "execution_count": 1,
   "metadata": {},
   "outputs": [],
   "source": [
    "import numpy as np"
   ]
  },
  {
   "cell_type": "code",
   "execution_count": 2,
   "metadata": {},
   "outputs": [
    {
     "data": {
      "text/plain": [
       "array([[680000,    100],\n",
       "       [  1560,    100],\n",
       "       [  2200,    630],\n",
       "       [  5700,   2200],\n",
       "       [680000,   2200]])"
      ]
     },
     "execution_count": 2,
     "metadata": {},
     "output_type": "execute_result"
    }
   ],
   "source": [
    "#mode1 caution:\n",
    "points = np.array([[680000, 100], [1560, 100], [2200, 630], [5700, 2200], [680000, 2200]])\n",
    "\n",
    "#mode1 caution steep:\n",
    "#points = np.array([[680000, 150], [1798, 150], [1944, 300], [3233, 1078], [6225, 2075], [680000, 2075]])\n",
    "\n",
    "#mode1 warning:\n",
    "#points = np.array([[680000, 100], [1600, 100], [1850, 300], [10100, 1958], [680000, 1958]])\n",
    "\n",
    "#mode1 warning steep:\n",
    "#points = np.array([[680000, 150], [1908, 150], [2050, 300], [10300, 1958], [680000, 1958]])\n",
    "\n",
    "#mode3 method1:\n",
    "#points = np.array([[680000, 60], [207, 60], [533, 600], [680000, 600]])\n",
    "\n",
    "#mode3 method2:\n",
    "#points = np.array([[330000, 60], [26, 60], [80, 600], [330000, 600]])\n",
    "\n",
    "#pda:\n",
    "#points = np.array([[5, 10], [1, 10], [1, 80], [1.8, 150], [2.3, 170], [5, 170]])\n",
    "\n",
    "points"
   ]
  },
  {
   "cell_type": "code",
   "execution_count": 3,
   "metadata": {},
   "outputs": [
    {
     "data": {
      "text/plain": [
       "array([[ 0.        , -1.        ],\n",
       "       [-0.63781397,  0.77019046],\n",
       "       [-0.40928044,  0.91240864],\n",
       "       [ 0.        ,  1.        ]])"
      ]
     },
     "execution_count": 3,
     "metadata": {},
     "output_type": "execute_result"
    }
   ],
   "source": [
    "def normal(p1, p2):\n",
    "\tn = (-(p2[1] - p1[1]), p2[0] - p1[0])\n",
    "\treturn n / np.linalg.norm(n)\n",
    "\n",
    "normals = np.array([ normal(p1, p2) for (p1, p2) in zip(points, points[1:])])\n",
    "normals"
   ]
  },
  {
   "cell_type": "code",
   "execution_count": 4,
   "metadata": {},
   "outputs": [
    {
     "name": "stdout",
     "output_type": "stream",
     "text": [
      "|----x---|---y---|\n",
      "(680000.000,     90.000),\n",
      "(  1550.592,     96.610),\n",
      "(  2194.716,    638.490),\n",
      "(  5697.907,   2209.779),\n",
      "(680000.000,   2210.000),\n"
     ]
    }
   ],
   "source": [
    "d = 10\n",
    "dist_points = []\n",
    "for i in range(len(points)):\n",
    "  if i == 0:\n",
    "    p = points[i] + d * normals[0]\n",
    "  elif i > 0 and i < len(points)-1:\n",
    "    n = normals[i-1] + normals[i]\n",
    "    n = n / np.linalg.norm(n)\n",
    "    p = points[i] + d * n\n",
    "  elif i == len(points)-1:\n",
    "     p = points[i] + d * normals[len(points)-2]\n",
    "\n",
    "  dist_points.append(p)\n",
    "\n",
    "dist_points = np.asarray(dist_points)\n",
    "dist_points\n",
    "\n",
    "print(\"|----x---|---y---|\")\n",
    "for p in dist_points:\n",
    "  print(f\"({p[0]:10.3f}, {p[1]:10.3f}),\")"
   ]
  },
  {
   "cell_type": "code",
   "execution_count": null,
   "metadata": {},
   "outputs": [],
   "source": []
  }
 ],
 "metadata": {
  "kernelspec": {
   "display_name": "Python 3.11.0 64-bit",
   "language": "python",
   "name": "python3"
  },
  "language_info": {
   "codemirror_mode": {
    "name": "ipython",
    "version": 3
   },
   "file_extension": ".py",
   "mimetype": "text/x-python",
   "name": "python",
   "nbconvert_exporter": "python",
   "pygments_lexer": "ipython3",
   "version": "3.11.0"
  },
  "orig_nbformat": 4,
  "vscode": {
   "interpreter": {
    "hash": "268e6c34cdb850135cada27548192fd7b18e94d41da1a388422292a2eaee9ad8"
   }
  }
 },
 "nbformat": 4,
 "nbformat_minor": 2
}
